{
  "nbformat": 4,
  "nbformat_minor": 0,
  "metadata": {
    "colab": {
      "name": "D17.ipynb",
      "provenance": [],
      "authorship_tag": "ABX9TyO/68cYeN4523jZX4+1Y4jc",
      "include_colab_link": true
    },
    "kernelspec": {
      "name": "python3",
      "display_name": "Python 3"
    }
  },
  "cells": [
    {
      "cell_type": "markdown",
      "metadata": {
        "id": "view-in-github",
        "colab_type": "text"
      },
      "source": [
        "<a href=\"https://colab.research.google.com/github/Lucas60229/PythonDataScience/blob/main/D17.ipynb\" target=\"_parent\"><img src=\"https://colab.research.google.com/assets/colab-badge.svg\" alt=\"Open In Colab\"/></a>"
      ]
    },
    {
      "cell_type": "code",
      "metadata": {
        "id": "okMNFPEYedAd"
      },
      "source": [
        "1.讀取的資料型態\n",
        "2.使用agg或transform時,轉用python內建函數 \n",
        "3.使用向量化的資料處理方式"
      ],
      "execution_count": null,
      "outputs": []
    },
    {
      "cell_type": "code",
      "metadata": {
        "id": "VOTI9LvIfAew"
      },
      "source": [
        "使用downcost轉成佔用比較小的型態"
      ],
      "execution_count": null,
      "outputs": []
    }
  ]
}