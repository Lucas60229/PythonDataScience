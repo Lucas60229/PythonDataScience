{
  "nbformat": 4,
  "nbformat_minor": 0,
  "metadata": {
    "colab": {
      "name": "D15.ipynb",
      "provenance": [],
      "authorship_tag": "ABX9TyMDUvcttvfbXoCjARu+qCSA",
      "include_colab_link": true
    },
    "kernelspec": {
      "name": "python3",
      "display_name": "Python 3"
    }
  },
  "cells": [
    {
      "cell_type": "markdown",
      "metadata": {
        "id": "view-in-github",
        "colab_type": "text"
      },
      "source": [
        "<a href=\"https://colab.research.google.com/github/Lucas60229/PythonDataScience/blob/main/D15.ipynb\" target=\"_parent\"><img src=\"https://colab.research.google.com/assets/colab-badge.svg\" alt=\"Open In Colab\"/></a>"
      ]
    },
    {
      "cell_type": "code",
      "metadata": {
        "id": "RgTQV8D5TBMg"
      },
      "source": [
        "import pandas as pd"
      ],
      "execution_count": 3,
      "outputs": []
    },
    {
      "cell_type": "code",
      "metadata": {
        "colab": {
          "base_uri": "https://localhost:8080/",
          "height": 514
        },
        "id": "4OIoYDGyTEwd",
        "outputId": "25ff12c0-8acd-4879-cdad-fd0ad85a70cc"
      },
      "source": [
        "score_df = pd.DataFrame([[1,50,80,70,'boy',1],[2,60,45,50,'boy',2],[3,98,43,55,'boy',1],[4,70,69,89,'boy',2],[5,56,79,60,'girl',1],[6,60,68,55,'girl',2],[7,45,70,77,'girl',1],[8,55,77,76,'girl',2],[9,25,57,60,'girl',1],[10,88,40,43,'girl',3],[11,25,60,45,'boy',3],[12,80,60,23,'boy',3],[13,20,90,66,'girl',3],[14,50,50,50,'girl',3],[15,89,67,77,'girl',3]],columns=['student_id','math_score','english_score','chinese_score','sex','class'])\n",
        "score_df"
      ],
      "execution_count": 5,
      "outputs": [
        {
          "output_type": "execute_result",
          "data": {
            "text/html": [
              "<div>\n",
              "<style scoped>\n",
              "    .dataframe tbody tr th:only-of-type {\n",
              "        vertical-align: middle;\n",
              "    }\n",
              "\n",
              "    .dataframe tbody tr th {\n",
              "        vertical-align: top;\n",
              "    }\n",
              "\n",
              "    .dataframe thead th {\n",
              "        text-align: right;\n",
              "    }\n",
              "</style>\n",
              "<table border=\"1\" class=\"dataframe\">\n",
              "  <thead>\n",
              "    <tr style=\"text-align: right;\">\n",
              "      <th></th>\n",
              "      <th>student_id</th>\n",
              "      <th>math_score</th>\n",
              "      <th>english_score</th>\n",
              "      <th>chinese_score</th>\n",
              "      <th>sex</th>\n",
              "      <th>class</th>\n",
              "    </tr>\n",
              "  </thead>\n",
              "  <tbody>\n",
              "    <tr>\n",
              "      <th>0</th>\n",
              "      <td>1</td>\n",
              "      <td>50</td>\n",
              "      <td>80</td>\n",
              "      <td>70</td>\n",
              "      <td>boy</td>\n",
              "      <td>1</td>\n",
              "    </tr>\n",
              "    <tr>\n",
              "      <th>1</th>\n",
              "      <td>2</td>\n",
              "      <td>60</td>\n",
              "      <td>45</td>\n",
              "      <td>50</td>\n",
              "      <td>boy</td>\n",
              "      <td>2</td>\n",
              "    </tr>\n",
              "    <tr>\n",
              "      <th>2</th>\n",
              "      <td>3</td>\n",
              "      <td>98</td>\n",
              "      <td>43</td>\n",
              "      <td>55</td>\n",
              "      <td>boy</td>\n",
              "      <td>1</td>\n",
              "    </tr>\n",
              "    <tr>\n",
              "      <th>3</th>\n",
              "      <td>4</td>\n",
              "      <td>70</td>\n",
              "      <td>69</td>\n",
              "      <td>89</td>\n",
              "      <td>boy</td>\n",
              "      <td>2</td>\n",
              "    </tr>\n",
              "    <tr>\n",
              "      <th>4</th>\n",
              "      <td>5</td>\n",
              "      <td>56</td>\n",
              "      <td>79</td>\n",
              "      <td>60</td>\n",
              "      <td>girl</td>\n",
              "      <td>1</td>\n",
              "    </tr>\n",
              "    <tr>\n",
              "      <th>5</th>\n",
              "      <td>6</td>\n",
              "      <td>60</td>\n",
              "      <td>68</td>\n",
              "      <td>55</td>\n",
              "      <td>girl</td>\n",
              "      <td>2</td>\n",
              "    </tr>\n",
              "    <tr>\n",
              "      <th>6</th>\n",
              "      <td>7</td>\n",
              "      <td>45</td>\n",
              "      <td>70</td>\n",
              "      <td>77</td>\n",
              "      <td>girl</td>\n",
              "      <td>1</td>\n",
              "    </tr>\n",
              "    <tr>\n",
              "      <th>7</th>\n",
              "      <td>8</td>\n",
              "      <td>55</td>\n",
              "      <td>77</td>\n",
              "      <td>76</td>\n",
              "      <td>girl</td>\n",
              "      <td>2</td>\n",
              "    </tr>\n",
              "    <tr>\n",
              "      <th>8</th>\n",
              "      <td>9</td>\n",
              "      <td>25</td>\n",
              "      <td>57</td>\n",
              "      <td>60</td>\n",
              "      <td>girl</td>\n",
              "      <td>1</td>\n",
              "    </tr>\n",
              "    <tr>\n",
              "      <th>9</th>\n",
              "      <td>10</td>\n",
              "      <td>88</td>\n",
              "      <td>40</td>\n",
              "      <td>43</td>\n",
              "      <td>girl</td>\n",
              "      <td>3</td>\n",
              "    </tr>\n",
              "    <tr>\n",
              "      <th>10</th>\n",
              "      <td>11</td>\n",
              "      <td>25</td>\n",
              "      <td>60</td>\n",
              "      <td>45</td>\n",
              "      <td>boy</td>\n",
              "      <td>3</td>\n",
              "    </tr>\n",
              "    <tr>\n",
              "      <th>11</th>\n",
              "      <td>12</td>\n",
              "      <td>80</td>\n",
              "      <td>60</td>\n",
              "      <td>23</td>\n",
              "      <td>boy</td>\n",
              "      <td>3</td>\n",
              "    </tr>\n",
              "    <tr>\n",
              "      <th>12</th>\n",
              "      <td>13</td>\n",
              "      <td>20</td>\n",
              "      <td>90</td>\n",
              "      <td>66</td>\n",
              "      <td>girl</td>\n",
              "      <td>3</td>\n",
              "    </tr>\n",
              "    <tr>\n",
              "      <th>13</th>\n",
              "      <td>14</td>\n",
              "      <td>50</td>\n",
              "      <td>50</td>\n",
              "      <td>50</td>\n",
              "      <td>girl</td>\n",
              "      <td>3</td>\n",
              "    </tr>\n",
              "    <tr>\n",
              "      <th>14</th>\n",
              "      <td>15</td>\n",
              "      <td>89</td>\n",
              "      <td>67</td>\n",
              "      <td>77</td>\n",
              "      <td>girl</td>\n",
              "      <td>3</td>\n",
              "    </tr>\n",
              "  </tbody>\n",
              "</table>\n",
              "</div>"
            ],
            "text/plain": [
              "    student_id  math_score  english_score  chinese_score   sex  class\n",
              "0            1          50             80             70   boy      1\n",
              "1            2          60             45             50   boy      2\n",
              "2            3          98             43             55   boy      1\n",
              "3            4          70             69             89   boy      2\n",
              "4            5          56             79             60  girl      1\n",
              "5            6          60             68             55  girl      2\n",
              "6            7          45             70             77  girl      1\n",
              "7            8          55             77             76  girl      2\n",
              "8            9          25             57             60  girl      1\n",
              "9           10          88             40             43  girl      3\n",
              "10          11          25             60             45   boy      3\n",
              "11          12          80             60             23   boy      3\n",
              "12          13          20             90             66  girl      3\n",
              "13          14          50             50             50  girl      3\n",
              "14          15          89             67             77  girl      3"
            ]
          },
          "metadata": {
            "tags": []
          },
          "execution_count": 5
        }
      ]
    },
    {
      "cell_type": "code",
      "metadata": {
        "colab": {
          "base_uri": "https://localhost:8080/"
        },
        "id": "arQgcuRvTGk-",
        "outputId": "c4a3baf4-a809-4fd2-9207-88249dd2a2b6"
      },
      "source": [
        "max_df = score_df.max()\n",
        "print(f'math_max_score: {max_df[\"math_score\"]}, english_max_score: {max_df[\"english_score\"]}, chinese_max_score: {max_df[\"chinese_score\"]}')"
      ],
      "execution_count": 11,
      "outputs": [
        {
          "output_type": "stream",
          "text": [
            "math_max_score: 98, english_max_score: 90, chinese_max_score: 89\n"
          ],
          "name": "stdout"
        }
      ]
    },
    {
      "cell_type": "code",
      "metadata": {
        "colab": {
          "base_uri": "https://localhost:8080/"
        },
        "id": "jee1VcjeVQ5S",
        "outputId": "28a0579e-dfe1-434b-dc0a-1497a4411684"
      },
      "source": [
        "min_df = score_df.min()\n",
        "print(f'math_min_score: {min_df[\"math_score\"]}, english_min_score: {min_df[\"english_score\"]}, chinese_min_score: {min_df[\"chinese_score\"]}')"
      ],
      "execution_count": 12,
      "outputs": [
        {
          "output_type": "stream",
          "text": [
            "math_min_score: 20, english_min_score: 40, chinese_min_score: 23\n"
          ],
          "name": "stdout"
        }
      ]
    },
    {
      "cell_type": "code",
      "metadata": {
        "colab": {
          "base_uri": "https://localhost:8080/"
        },
        "id": "Oy_tr7iJVX2n",
        "outputId": "b776d254-6931-46ce-8bf7-a2a701bfd14e"
      },
      "source": [
        "math_mean_max_class = score_df.groupby([\"class\"]).agg(\"mean\")\n",
        "math_mean_max_class.loc[math_mean_max_class['math_score'].idxmax()]"
      ],
      "execution_count": 26,
      "outputs": [
        {
          "output_type": "execute_result",
          "data": {
            "text/plain": [
              "student_id        5.00\n",
              "math_score       61.25\n",
              "english_score    64.75\n",
              "chinese_score    67.50\n",
              "Name: 2, dtype: float64"
            ]
          },
          "metadata": {
            "tags": []
          },
          "execution_count": 26
        }
      ]
    },
    {
      "cell_type": "code",
      "metadata": {
        "colab": {
          "base_uri": "https://localhost:8080/"
        },
        "id": "zsndk_n4W92z",
        "outputId": "1189b04c-d28a-4eaa-97bf-38e737866b80"
      },
      "source": [
        "sex_group = score_df.groupby([\"sex\"]).mean()\n",
        "sex_group.loc[\"boy\"][\"chinese_score\"] - sex_group.loc[\"girl\"][\"chinese_score\"]"
      ],
      "execution_count": 30,
      "outputs": [
        {
          "output_type": "execute_result",
          "data": {
            "text/plain": [
              "-7.333333333333329"
            ]
          },
          "metadata": {
            "tags": []
          },
          "execution_count": 30
        }
      ]
    }
  ]
}