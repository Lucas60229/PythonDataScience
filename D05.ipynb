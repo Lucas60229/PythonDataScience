{
  "nbformat": 4,
  "nbformat_minor": 0,
  "metadata": {
    "colab": {
      "name": "D05.ipynb",
      "provenance": [],
      "authorship_tag": "ABX9TyM12pZN9hjRBvUlr4tGIyXP",
      "include_colab_link": true
    },
    "kernelspec": {
      "name": "python3",
      "display_name": "Python 3"
    }
  },
  "cells": [
    {
      "cell_type": "markdown",
      "metadata": {
        "id": "view-in-github",
        "colab_type": "text"
      },
      "source": [
        "<a href=\"https://colab.research.google.com/github/Lucas60229/PythonDataScience/blob/main/D05.ipynb\" target=\"_parent\"><img src=\"https://colab.research.google.com/assets/colab-badge.svg\" alt=\"Open In Colab\"/></a>"
      ]
    },
    {
      "cell_type": "code",
      "metadata": {
        "id": "POz2JVTpukO1"
      },
      "source": [
        "import numpy as np"
      ],
      "execution_count": 2,
      "outputs": []
    },
    {
      "cell_type": "code",
      "metadata": {
        "id": "eNnVCLTwumAO"
      },
      "source": [
        "english_score = np.array([55,89,76,65,48,70])\n",
        "\n",
        "math_score = np.array([60,85,60,68,np.nan,60])\n",
        "\n",
        "chinese_score = np.array([65,90,82,72,66,77])"
      ],
      "execution_count": 3,
      "outputs": []
    },
    {
      "cell_type": "code",
      "metadata": {
        "colab": {
          "base_uri": "https://localhost:8080/"
        },
        "id": "g8x1Nn6LupJy",
        "outputId": "b9ab1da2-c4f0-45be-d165-82627f3d147f"
      },
      "source": [
        "eng_average, math_average, chinese_average = np.mean(english_score), np.nanmean(math_score), np.mean(chinese_score)\n",
        "eng_max, math_max, chinese_max = np.max(english_score), np.nanmax(math_score), np.max(chinese_score)\n",
        "eng_min, math_min, chinese_min = np.min(english_score), np.nanmin(math_score), np.min(chinese_score)\n",
        "eng_std, math_std, chinese_std = np.std(english_score), np.nanstd(math_score), np.std(chinese_score)\n",
        "\n",
        "print(f\"eng_average: {eng_average}, math_average: {math_average}, chinese_math: {chinese_average}\")\n",
        "print(f\"eng_max: {eng_max}, math_max: {math_max}, chinese_math: {chinese_max}\")\n",
        "print(f\"eng_min: {eng_min}, math_min: {math_min}, chinese_math: {chinese_min}\")\n",
        "print(f\"eng_std: {eng_std}, math_std: {math_std}, chinese_math: {chinese_std}\")\n"
      ],
      "execution_count": 7,
      "outputs": [
        {
          "output_type": "stream",
          "text": [
            "eng_average: 67.16666666666667, math_average: 66.6, chinese_math: 75.33333333333333\n",
            "eng_max: 89, math_max: 85.0, chinese_math: 90\n",
            "eng_min: 48, math_min: 60.0, chinese_math: 65\n",
            "eng_std: 13.433995020924426, math_std: 9.707728879609279, chinese_math: 8.825468196582484\n"
          ],
          "name": "stdout"
        }
      ]
    },
    {
      "cell_type": "code",
      "metadata": {
        "id": "e09kFEaIxpP-"
      },
      "source": [
        "english_score1 = np.array([55,89,76,65,48,70])\n",
        "\n",
        "math_score1 = np.array([60,85,60,68,55,60])\n",
        "\n",
        "chinese_score1 = np.array([65,90,82,72,66,77])"
      ],
      "execution_count": 9,
      "outputs": []
    },
    {
      "cell_type": "code",
      "metadata": {
        "colab": {
          "base_uri": "https://localhost:8080/"
        },
        "id": "oy9nAkOdwDpe",
        "outputId": "9558b832-c217-4301-c017-257488470f63"
      },
      "source": [
        "eng_average, math_average, chinese_average = np.mean(english_score1), np.mean(math_score1), np.mean(chinese_score1)\n",
        "eng_max, math_max, chinese_max = np.max(english_score1), np.max(math_score1), np.max(chinese_score1)\n",
        "eng_min, math_min, chinese_min = np.min(english_score1), np.min(math_score1), np.min(chinese_score1)\n",
        "eng_std, math_std, chinese_std = np.std(english_score1), np.std(math_score1), np.std(chinese_score1)\n",
        "\n",
        "print(f\"eng_average: {eng_average}, math_average: {math_average}, chinese_math: {chinese_average}\")\n",
        "print(f\"eng_max: {eng_max}, math_max: {math_max}, chinese_math: {chinese_max}\")\n",
        "print(f\"eng_min: {eng_min}, math_min: {math_min}, chinese_math: {chinese_min}\")\n",
        "print(f\"eng_std: {eng_std}, math_std: {math_std}, chinese_math: {chinese_std}\")"
      ],
      "execution_count": 11,
      "outputs": [
        {
          "output_type": "stream",
          "text": [
            "eng_average: 67.16666666666667, math_average: 64.66666666666667, chinese_math: 75.33333333333333\n",
            "eng_max: 89, math_max: 85, chinese_math: 90\n",
            "eng_min: 48, math_min: 55, chinese_math: 65\n",
            "eng_std: 13.433995020924426, math_std: 9.860132971832694, chinese_math: 8.825468196582484\n"
          ],
          "name": "stdout"
        }
      ]
    },
    {
      "cell_type": "code",
      "metadata": {
        "colab": {
          "base_uri": "https://localhost:8080/"
        },
        "id": "vJvHVGZwx9SB",
        "outputId": "9d186dfb-e29f-4367-8ff9-7657bb217042"
      },
      "source": [
        "chinese_math_correlate  = np.correlate(chinese_score1, math_score1, mode=\"v\")\n",
        "chinese_english_correlate = np.correlate(chinese_score1, english_score1, mode=\"v\")\n",
        "print(chinese_math_correlate, chinese_english_correlate)"
      ],
      "execution_count": 13,
      "outputs": [
        {
          "output_type": "stream",
          "text": [
            "[29616] [31055]\n"
          ],
          "name": "stdout"
        }
      ]
    }
  ]
}