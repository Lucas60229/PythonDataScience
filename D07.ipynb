{
  "nbformat": 4,
  "nbformat_minor": 0,
  "metadata": {
    "colab": {
      "name": "D07.ipynb",
      "provenance": [],
      "authorship_tag": "ABX9TyPqYGlW+rSkSr2Yp1ItBz5r",
      "include_colab_link": true
    },
    "kernelspec": {
      "name": "python3",
      "display_name": "Python 3"
    }
  },
  "cells": [
    {
      "cell_type": "markdown",
      "metadata": {
        "id": "view-in-github",
        "colab_type": "text"
      },
      "source": [
        "<a href=\"https://colab.research.google.com/github/Lucas60229/PythonDataScience/blob/main/D07.ipynb\" target=\"_parent\"><img src=\"https://colab.research.google.com/assets/colab-badge.svg\" alt=\"Open In Colab\"/></a>"
      ]
    },
    {
      "cell_type": "code",
      "metadata": {
        "id": "55mgN17qqmIR"
      },
      "source": [
        "import numpy as np"
      ],
      "execution_count": 1,
      "outputs": []
    },
    {
      "cell_type": "code",
      "metadata": {
        "id": "WAv3YiH5qbKB"
      },
      "source": [
        "array1 = np.array([[10, 8], [3, 5]])"
      ],
      "execution_count": 4,
      "outputs": []
    },
    {
      "cell_type": "code",
      "metadata": {
        "colab": {
          "base_uri": "https://localhost:8080/"
        },
        "id": "4NTByd9kqrkn",
        "outputId": "94810ee2-6170-44c5-9fc2-250d8ed2fa97"
      },
      "source": [
        "array1_inverse = np.linalg.inv(array1)\n",
        "array1_inverse "
      ],
      "execution_count": 6,
      "outputs": [
        {
          "output_type": "execute_result",
          "data": {
            "text/plain": [
              "array([[ 0.19230769, -0.30769231],\n",
              "       [-0.11538462,  0.38461538]])"
            ]
          },
          "metadata": {
            "tags": []
          },
          "execution_count": 6
        }
      ]
    },
    {
      "cell_type": "code",
      "metadata": {
        "colab": {
          "base_uri": "https://localhost:8080/"
        },
        "id": "1-qmLVD1q2H0",
        "outputId": "1fbbbce4-a994-4aa0-951e-53d8f308b403"
      },
      "source": [
        "array1_iden = array1 @ array1_inverse\n",
        "array1_iden == np.identity(2)"
      ],
      "execution_count": 9,
      "outputs": [
        {
          "output_type": "execute_result",
          "data": {
            "text/plain": [
              "array([[ True,  True],\n",
              "       [ True,  True]])"
            ]
          },
          "metadata": {
            "tags": []
          },
          "execution_count": 9
        }
      ]
    },
    {
      "cell_type": "code",
      "metadata": {
        "colab": {
          "base_uri": "https://localhost:8080/"
        },
        "id": "6qYUq8tgrixg",
        "outputId": "5592ee93-d669-4e97-9ec5-e193eb883400"
      },
      "source": [
        "array1_w, array1_v = np.linalg.eig(array1)\n",
        "array1_w, array1_v"
      ],
      "execution_count": 10,
      "outputs": [
        {
          "output_type": "execute_result",
          "data": {
            "text/plain": [
              "(array([13.,  2.]), array([[ 0.93632918, -0.70710678],\n",
              "        [ 0.35112344,  0.70710678]]))"
            ]
          },
          "metadata": {
            "tags": []
          },
          "execution_count": 10
        }
      ]
    },
    {
      "cell_type": "code",
      "metadata": {
        "colab": {
          "base_uri": "https://localhost:8080/"
        },
        "id": "LD5t-sg0r1Pc",
        "outputId": "40203ed7-23b4-4c9a-abc6-8377b2a60763"
      },
      "source": [
        "array1_u, array1_s, array1_vh = np.linalg.svd(array1)\n",
        "array1_u, array1_s, array1_vh"
      ],
      "execution_count": 12,
      "outputs": [
        {
          "output_type": "execute_result",
          "data": {
            "text/plain": [
              "(array([[-0.91663818, -0.39971796],\n",
              "        [-0.39971796,  0.91663818]]),\n",
              " array([13.94721714,  1.86417116]),\n",
              " array([[-0.74319741, -0.6690722 ],\n",
              "        [-0.6690722 ,  0.74319741]]))"
            ]
          },
          "metadata": {
            "tags": []
          },
          "execution_count": 12
        }
      ]
    }
  ]
}