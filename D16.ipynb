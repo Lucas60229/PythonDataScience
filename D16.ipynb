{
  "nbformat": 4,
  "nbformat_minor": 0,
  "metadata": {
    "colab": {
      "name": "D16.ipynb",
      "provenance": [],
      "authorship_tag": "ABX9TyMOWZzaMgyY2VUbW+nCYI14",
      "include_colab_link": true
    },
    "kernelspec": {
      "name": "python3",
      "display_name": "Python 3"
    }
  },
  "cells": [
    {
      "cell_type": "markdown",
      "metadata": {
        "id": "view-in-github",
        "colab_type": "text"
      },
      "source": [
        "<a href=\"https://colab.research.google.com/github/Lucas60229/PythonDataScience/blob/main/D16.ipynb\" target=\"_parent\"><img src=\"https://colab.research.google.com/assets/colab-badge.svg\" alt=\"Open In Colab\"/></a>"
      ]
    },
    {
      "cell_type": "code",
      "metadata": {
        "id": "Vab8zV_xYimU"
      },
      "source": [
        "import numpy as np\n",
        "import pandas as pd"
      ],
      "execution_count": 1,
      "outputs": []
    },
    {
      "cell_type": "code",
      "metadata": {
        "colab": {
          "base_uri": "https://localhost:8080/"
        },
        "id": "dmwnsZXmZ-th",
        "outputId": "4c62bb24-9b47-4f73-b6de-4ee74a165ab3"
      },
      "source": [
        "index = pd.date_range('1/1/2019', periods=20, freq='D')\n",
        "series = pd.Series(range(20), index=index)\n",
        "series"
      ],
      "execution_count": 2,
      "outputs": [
        {
          "output_type": "execute_result",
          "data": {
            "text/plain": [
              "2019-01-01     0\n",
              "2019-01-02     1\n",
              "2019-01-03     2\n",
              "2019-01-04     3\n",
              "2019-01-05     4\n",
              "2019-01-06     5\n",
              "2019-01-07     6\n",
              "2019-01-08     7\n",
              "2019-01-09     8\n",
              "2019-01-10     9\n",
              "2019-01-11    10\n",
              "2019-01-12    11\n",
              "2019-01-13    12\n",
              "2019-01-14    13\n",
              "2019-01-15    14\n",
              "2019-01-16    15\n",
              "2019-01-17    16\n",
              "2019-01-18    17\n",
              "2019-01-19    18\n",
              "2019-01-20    19\n",
              "Freq: D, dtype: int64"
            ]
          },
          "metadata": {
            "tags": []
          },
          "execution_count": 2
        }
      ]
    },
    {
      "cell_type": "code",
      "metadata": {
        "colab": {
          "base_uri": "https://localhost:8080/"
        },
        "id": "oFl3hZXiaSCN",
        "outputId": "eb0e3532-227e-4071-c9c7-420105360511"
      },
      "source": [
        "series_interval_week = series.to_period('W')\n",
        "series_interval_week"
      ],
      "execution_count": 11,
      "outputs": [
        {
          "output_type": "execute_result",
          "data": {
            "text/plain": [
              "2018-12-31/2019-01-06     0\n",
              "2018-12-31/2019-01-06     1\n",
              "2018-12-31/2019-01-06     2\n",
              "2018-12-31/2019-01-06     3\n",
              "2018-12-31/2019-01-06     4\n",
              "2018-12-31/2019-01-06     5\n",
              "2019-01-07/2019-01-13     6\n",
              "2019-01-07/2019-01-13     7\n",
              "2019-01-07/2019-01-13     8\n",
              "2019-01-07/2019-01-13     9\n",
              "2019-01-07/2019-01-13    10\n",
              "2019-01-07/2019-01-13    11\n",
              "2019-01-07/2019-01-13    12\n",
              "2019-01-14/2019-01-20    13\n",
              "2019-01-14/2019-01-20    14\n",
              "2019-01-14/2019-01-20    15\n",
              "2019-01-14/2019-01-20    16\n",
              "2019-01-14/2019-01-20    17\n",
              "2019-01-14/2019-01-20    18\n",
              "2019-01-14/2019-01-20    19\n",
              "Freq: W-SUN, dtype: int64"
            ]
          },
          "metadata": {
            "tags": []
          },
          "execution_count": 11
        }
      ]
    },
    {
      "cell_type": "code",
      "metadata": {
        "colab": {
          "base_uri": "https://localhost:8080/"
        },
        "id": "Em6ZPlnObB2m",
        "outputId": "848633c3-2d8c-459a-ae56-7a1f344f50e5"
      },
      "source": [
        "series_interval_week_mean = series.resample(\"W\", convention='start').mean()\n",
        "series_interval_week_mean"
      ],
      "execution_count": 10,
      "outputs": [
        {
          "output_type": "execute_result",
          "data": {
            "text/plain": [
              "2019-01-06     2.5\n",
              "2019-01-13     9.0\n",
              "2019-01-20    16.0\n",
              "Freq: W-SUN, dtype: float64"
            ]
          },
          "metadata": {
            "tags": []
          },
          "execution_count": 10
        }
      ]
    }
  ]
}