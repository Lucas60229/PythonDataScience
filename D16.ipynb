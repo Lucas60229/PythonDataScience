{
  "nbformat": 4,
  "nbformat_minor": 0,
  "metadata": {
    "colab": {
      "name": "D16.ipynb",
      "provenance": [],
      "authorship_tag": "ABX9TyP0oJRsKkXUEs+VdpLBmLCU",
      "include_colab_link": true
    },
    "kernelspec": {
      "name": "python3",
      "display_name": "Python 3"
    }
  },
  "cells": [
    {
      "cell_type": "markdown",
      "metadata": {
        "id": "view-in-github",
        "colab_type": "text"
      },
      "source": [
        "<a href=\"https://colab.research.google.com/github/Lucas60229/PythonDataScience/blob/main/D16.ipynb\" target=\"_parent\"><img src=\"https://colab.research.google.com/assets/colab-badge.svg\" alt=\"Open In Colab\"/></a>"
      ]
    },
    {
      "cell_type": "code",
      "metadata": {
        "id": "Vab8zV_xYimU"
      },
      "source": [
        "import numpy as np\n",
        "import pandas as pd"
      ],
      "execution_count": 1,
      "outputs": []
    },
    {
      "cell_type": "code",
      "metadata": {
        "colab": {
          "base_uri": "https://localhost:8080/"
        },
        "id": "dmwnsZXmZ-th",
        "outputId": "4c62bb24-9b47-4f73-b6de-4ee74a165ab3"
      },
      "source": [
        "index = pd.date_range('1/1/2019', periods=20, freq='D')\n",
        "series = pd.Series(range(20), index=index)\n",
        "series"
      ],
      "execution_count": 2,
      "outputs": [
        {
          "output_type": "execute_result",
          "data": {
            "text/plain": [
              "2019-01-01     0\n",
              "2019-01-02     1\n",
              "2019-01-03     2\n",
              "2019-01-04     3\n",
              "2019-01-05     4\n",
              "2019-01-06     5\n",
              "2019-01-07     6\n",
              "2019-01-08     7\n",
              "2019-01-09     8\n",
              "2019-01-10     9\n",
              "2019-01-11    10\n",
              "2019-01-12    11\n",
              "2019-01-13    12\n",
              "2019-01-14    13\n",
              "2019-01-15    14\n",
              "2019-01-16    15\n",
              "2019-01-17    16\n",
              "2019-01-18    17\n",
              "2019-01-19    18\n",
              "2019-01-20    19\n",
              "Freq: D, dtype: int64"
            ]
          },
          "metadata": {
            "tags": []
          },
          "execution_count": 2
        }
      ]
    },
    {
      "cell_type": "code",
      "metadata": {
        "colab": {
          "base_uri": "https://localhost:8080/"
        },
        "id": "oFl3hZXiaSCN",
        "outputId": "7ba80c71-be8c-459e-d96b-dcc549fe9d45"
      },
      "source": [
        "series_interval_week = series.resample(\"W\", convention='start').asfreq()\n",
        "series_interval_week"
      ],
      "execution_count": 6,
      "outputs": [
        {
          "output_type": "execute_result",
          "data": {
            "text/plain": [
              "2019-01-06     5\n",
              "2019-01-13    12\n",
              "2019-01-20    19\n",
              "Freq: W-SUN, dtype: int64"
            ]
          },
          "metadata": {
            "tags": []
          },
          "execution_count": 6
        }
      ]
    },
    {
      "cell_type": "code",
      "metadata": {
        "colab": {
          "base_uri": "https://localhost:8080/"
        },
        "id": "Em6ZPlnObB2m",
        "outputId": "40d866a1-d15e-4548-8e72-ddb727dd7e0e"
      },
      "source": [
        "series_interval_week_mean = series_interval_week.mean()\n",
        "series_interval_week_mean"
      ],
      "execution_count": 8,
      "outputs": [
        {
          "output_type": "execute_result",
          "data": {
            "text/plain": [
              "12.0"
            ]
          },
          "metadata": {
            "tags": []
          },
          "execution_count": 8
        }
      ]
    }
  ]
}