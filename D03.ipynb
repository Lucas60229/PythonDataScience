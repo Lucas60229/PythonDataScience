{
  "nbformat": 4,
  "nbformat_minor": 0,
  "metadata": {
    "colab": {
      "name": "D03.ipynb",
      "provenance": [],
      "authorship_tag": "ABX9TyN768GVHi0Yv8mdnRrJMXnM",
      "include_colab_link": true
    },
    "kernelspec": {
      "name": "python3",
      "display_name": "Python 3"
    }
  },
  "cells": [
    {
      "cell_type": "markdown",
      "metadata": {
        "id": "view-in-github",
        "colab_type": "text"
      },
      "source": [
        "<a href=\"https://colab.research.google.com/github/Lucas60229/PythonDataScience/blob/main/D03.ipynb\" target=\"_parent\"><img src=\"https://colab.research.google.com/assets/colab-badge.svg\" alt=\"Open In Colab\"/></a>"
      ]
    },
    {
      "cell_type": "code",
      "metadata": {
        "id": "hgZcAHfhVq1l"
      },
      "source": [
        "import numpy as np"
      ],
      "execution_count": 2,
      "outputs": []
    },
    {
      "cell_type": "code",
      "metadata": {
        "colab": {
          "base_uri": "https://localhost:8080/"
        },
        "id": "pbM6kXi1VvX_",
        "outputId": "c090b576-9f84-4659-bf72-017b2c4b2774"
      },
      "source": [
        "equation = np.multiply(20, np.log10(np.divide(20000, 20)))\n",
        "equation"
      ],
      "execution_count": 5,
      "outputs": [
        {
          "output_type": "execute_result",
          "data": {
            "text/plain": [
              "60.0"
            ]
          },
          "metadata": {
            "tags": []
          },
          "execution_count": 5
        }
      ]
    },
    {
      "cell_type": "markdown",
      "metadata": {
        "id": "RhWzlc5UeAF9"
      },
      "source": [
        ""
      ]
    },
    {
      "cell_type": "code",
      "metadata": {
        "colab": {
          "base_uri": "https://localhost:8080/"
        },
        "id": "6YfkjT0pXK4S",
        "outputId": "5bf86d76-9c29-4b9a-e764-1e3e8e01bcdd"
      },
      "source": [
        " V50 = np.power(10, np.divide(50, 20)) * 20\n",
        " V50\n",
        " V30 = np.power(10, np.divide(30, 20)) * 20\n",
        " V30\n",
        " \n",
        "np.divide(V30, V50)"
      ],
      "execution_count": 14,
      "outputs": [
        {
          "output_type": "execute_result",
          "data": {
            "text/plain": [
              "0.09999999999999999"
            ]
          },
          "metadata": {
            "tags": []
          },
          "execution_count": 14
        }
      ]
    }
  ]
}