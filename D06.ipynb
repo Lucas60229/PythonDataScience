{
  "nbformat": 4,
  "nbformat_minor": 0,
  "metadata": {
    "colab": {
      "name": "D06.ipynb",
      "provenance": [],
      "authorship_tag": "ABX9TyMQ5o31Q5r/2yL/+AwwDf+f",
      "include_colab_link": true
    },
    "kernelspec": {
      "name": "python3",
      "display_name": "Python 3"
    }
  },
  "cells": [
    {
      "cell_type": "markdown",
      "metadata": {
        "id": "view-in-github",
        "colab_type": "text"
      },
      "source": [
        "<a href=\"https://colab.research.google.com/github/Lucas60229/PythonDataScience/blob/main/D06.ipynb\" target=\"_parent\"><img src=\"https://colab.research.google.com/assets/colab-badge.svg\" alt=\"Open In Colab\"/></a>"
      ]
    },
    {
      "cell_type": "code",
      "metadata": {
        "id": "F2xaA4YL1xHh"
      },
      "source": [
        "import numpy as np"
      ],
      "execution_count": 36,
      "outputs": []
    },
    {
      "cell_type": "code",
      "metadata": {
        "id": "_-78sPW25A91"
      },
      "source": [
        "array1 = np.array(range(30))\n",
        "array2 = np.array([2,3,5])"
      ],
      "execution_count": 113,
      "outputs": []
    },
    {
      "cell_type": "code",
      "metadata": {
        "id": "Rhmo5Zrc4qKq"
      },
      "source": [
        "with open(\"file.npz\", \"wb\") as f:\n",
        "  np.savez(f, array1)"
      ],
      "execution_count": 114,
      "outputs": []
    },
    {
      "cell_type": "code",
      "metadata": {
        "colab": {
          "base_uri": "https://localhost:8080/"
        },
        "id": "prAqEagnBxBi",
        "outputId": "437a37e2-360a-404a-bd07-1422c0073698"
      },
      "source": [
        "with open(\"file.npz\", \"a+b\") as f:\n",
        "  np.savez(f, array2)\n",
        "npzfile = np.load(\"file.npz\")\n",
        "print(npzfile.files)"
      ],
      "execution_count": 115,
      "outputs": [
        {
          "output_type": "stream",
          "text": [
            "['arr_0']\n"
          ],
          "name": "stdout"
        }
      ]
    },
    {
      "cell_type": "code",
      "metadata": {
        "colab": {
          "base_uri": "https://localhost:8080/"
        },
        "id": "vTUYz1FL5Z-R",
        "outputId": "52e56fc3-82ae-4a26-84ae-31af615cc4b8"
      },
      "source": [
        "res = []\n",
        "for fl in files:\n",
        "  if fl != \"file.npz\":\n",
        "    filetitle, file_extension = os.path.splitext(fl)\n",
        "    if file_extension == \".npy\":\n",
        "      with open(fl, \"rb\") as sf:\n",
        "        res.append(np.load(sf))\n",
        "    elif file_extension == \".npz\":\n",
        "      with open(fl, \"rb\") as sf:\n",
        "        for i in np.load(sf).files:\n",
        "          res.append(np.load(sf))\n",
        "    elif file_extension == \".txt\":\n",
        "      res.append(np.genfromtxt(fl, delimiter=\",\", names=True))\n",
        "    elif file_extension == \".csv\" or file_extension == \".gz\": \n",
        "      res.append(np.genfromtxt(fl, delimiter=\",\"))\n",
        "    elif file_extension == \".out\":\n",
        "      res.append(np.genfromtxt(fl, comments=\"#\"))\n",
        "# with open(\"file.npz\", \"wb\"):\n",
        "  # np.savez(array1, array2, i for i in res)"
      ],
      "execution_count": 124,
      "outputs": [
        {
          "output_type": "stream",
          "text": [
            "<generator object <genexpr> at 0x7f998cbdae08>\n"
          ],
          "name": "stdout"
        }
      ]
    },
    {
      "cell_type": "code",
      "metadata": {
        "id": "Cqc28dN-QbTV"
      },
      "source": [
        "with open(\"multi_array\", \"rb\") as f:\n",
        "  for i in np.load(f).files:\n",
        "    \n",
        "\n",
        "with open(\"\", \"rb\") as f:\n",
        "with open(\"\", \"rb\") as f:\n",
        "with open(\"\", \"rb\") as f:\n",
        "with open(\"\", \"rb\") as f:\n",
        "with open(\"\", \"rb\") as f:\n",
        "with open(\"\", \"rb\") as f:\n",
        "with open(\"\", \"rb\") as f:"
      ],
      "execution_count": null,
      "outputs": []
    }
  ]
}