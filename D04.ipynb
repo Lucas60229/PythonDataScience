{
  "nbformat": 4,
  "nbformat_minor": 0,
  "metadata": {
    "colab": {
      "name": "D04.ipynb",
      "provenance": [],
      "authorship_tag": "ABX9TyM2tfcbWbH9Bsu0dhwNFA4d",
      "include_colab_link": true
    },
    "kernelspec": {
      "name": "python3",
      "display_name": "Python 3"
    }
  },
  "cells": [
    {
      "cell_type": "markdown",
      "metadata": {
        "id": "view-in-github",
        "colab_type": "text"
      },
      "source": [
        "<a href=\"https://colab.research.google.com/github/Lucas60229/PythonDataScience/blob/main/D04.ipynb\" target=\"_parent\"><img src=\"https://colab.research.google.com/assets/colab-badge.svg\" alt=\"Open In Colab\"/></a>"
      ]
    },
    {
      "cell_type": "code",
      "metadata": {
        "id": "1ypuvpTUkrFJ"
      },
      "source": [
        "import numpy as np"
      ],
      "execution_count": 1,
      "outputs": []
    },
    {
      "cell_type": "code",
      "metadata": {
        "id": "u78l6-89kux6"
      },
      "source": [
        "english_score = np.array([55,89,76,65,48,70])\n",
        "\n",
        "math_score = np.array([60,85,60,68,55,60])\n",
        "\n",
        "chinese_score = np.array([65,90,82,72,66,77])"
      ],
      "execution_count": 2,
      "outputs": []
    },
    {
      "cell_type": "code",
      "metadata": {
        "colab": {
          "base_uri": "https://localhost:8080/"
        },
        "id": "s2G8na2ed4xJ",
        "outputId": "9c285597-64b8-4d50-b6a3-897f305c5013"
      },
      "source": [
        "np.greater(english_score, math_score)"
      ],
      "execution_count": 3,
      "outputs": [
        {
          "output_type": "execute_result",
          "data": {
            "text/plain": [
              "array([False,  True,  True, False, False,  True])"
            ]
          },
          "metadata": {
            "tags": []
          },
          "execution_count": 3
        }
      ]
    },
    {
      "cell_type": "code",
      "metadata": {
        "colab": {
          "base_uri": "https://localhost:8080/"
        },
        "id": "0dcViEWgh7rG",
        "outputId": "4f5ed4af-ce2b-460e-ec90-525c9311b3d1"
      },
      "source": [
        "np.array_equal(np.greater(chinese_score, english_score), np.greater(chinese_score, math_score))"
      ],
      "execution_count": 6,
      "outputs": [
        {
          "output_type": "execute_result",
          "data": {
            "text/plain": [
              "True"
            ]
          },
          "metadata": {
            "tags": []
          },
          "execution_count": 6
        }
      ]
    }
  ]
}