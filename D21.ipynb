{
  "nbformat": 4,
  "nbformat_minor": 0,
  "metadata": {
    "colab": {
      "name": "D21.ipynb",
      "provenance": [],
      "authorship_tag": "ABX9TyP5UYg0a/BCBOff9mlHq5XW",
      "include_colab_link": true
    },
    "kernelspec": {
      "name": "python3",
      "display_name": "Python 3"
    }
  },
  "cells": [
    {
      "cell_type": "markdown",
      "metadata": {
        "id": "view-in-github",
        "colab_type": "text"
      },
      "source": [
        "<a href=\"https://colab.research.google.com/github/Lucas60229/PythonDataScience/blob/main/D21.ipynb\" target=\"_parent\"><img src=\"https://colab.research.google.com/assets/colab-badge.svg\" alt=\"Open In Colab\"/></a>"
      ]
    },
    {
      "cell_type": "code",
      "metadata": {
        "id": "H_VIavrFhuT7"
      },
      "source": [
        "import pandas as pd\r\n",
        "import seaborn as sns\r\n",
        "from matplotlib import pyplot as plt"
      ],
      "execution_count": 1,
      "outputs": []
    },
    {
      "cell_type": "code",
      "metadata": {
        "colab": {
          "base_uri": "https://localhost:8080/",
          "height": 296
        },
        "id": "6ahXmfhqkBwZ",
        "outputId": "676e2099-e699-452d-c8e8-601b5b3c377d"
      },
      "source": [
        "#直接使用PANDAS dataframe, 當作參數\r\n",
        "#條形圖()顯示分類變數和連續變數之間的關係。數據以矩形條表示,其中條的長度表示該類別中數據的比例。\r\n",
        "df = sns.load_dataset('titanic')\r\n",
        "sns.barplot(x='sex', y='survived',hue='class', data=df)"
      ],
      "execution_count": 14,
      "outputs": [
        {
          "output_type": "execute_result",
          "data": {
            "text/plain": [
              "<matplotlib.axes._subplots.AxesSubplot at 0x7f70d38752d0>"
            ]
          },
          "metadata": {
            "tags": []
          },
          "execution_count": 14
        },
        {
          "output_type": "display_data",
          "data": {
            "image/png": "[encoded data removed]",
            "text/plain": [
              "<Figure size 432x288 with 1 Axes>"
            ]
          },
          "metadata": {
            "tags": [],
            "needs_background": "light"
          }
        }
      ]
    },
    {
      "cell_type": "code",
      "metadata": {
        "colab": {
          "base_uri": "https://localhost:8080/",
          "height": 242
        },
        "id": "D-tNtWC8kbVF",
        "outputId": "64e57301-5b88-4138-9fc2-9290a07bab2e"
      },
      "source": [
        "# 瞭解性別在各艙等的分布的存活率\r\n",
        "g = sns.FacetGrid(df, col=\"survived\")\r\n",
        "g.map(plt.hist, 'sex')"
      ],
      "execution_count": 20,
      "outputs": [
        {
          "output_type": "execute_result",
          "data": {
            "text/plain": [
              "<seaborn.axisgrid.FacetGrid at 0x7f70caa0d6d0>"
            ]
          },
          "metadata": {
            "tags": []
          },
          "execution_count": 20
        },
        {
          "output_type": "display_data",
          "data": {
            "image/png": "[encoded data removed]",
            "text/plain": [
              "<Figure size 432x216 with 2 Axes>"
            ]
          },
          "metadata": {
            "tags": [],
            "needs_background": "light"
          }
        }
      ]
    },
    {
      "cell_type": "code",
      "metadata": {
        "colab": {
          "base_uri": "https://localhost:8080/",
          "height": 341
        },
        "id": "5M41YB2qn6KF",
        "outputId": "cf328ef1-e2c9-42c1-c3bf-594b50fc38ce"
      },
      "source": [
        "#先檢視各艙位存活人數，此時可以使用groupby函數進行分類，\r\n",
        "#其中 survived＝1表示存活，survived＝0表示死亡，將survived加總即為各艙等生存人數。\r\n",
        "\r\n",
        "df.groupby('pclass').survived.sum()\r\n",
        "\r\n",
        "#加上性別\r\n",
        "survived=df.groupby(['pclass','sex']).survived.sum()\r\n",
        "survived.plot(kind='bar')"
      ],
      "execution_count": 21,
      "outputs": [
        {
          "output_type": "execute_result",
          "data": {
            "text/plain": [
              "<matplotlib.axes._subplots.AxesSubplot at 0x7f70d381fbd0>"
            ]
          },
          "metadata": {
            "tags": []
          },
          "execution_count": 21
        },
        {
          "output_type": "display_data",
          "data": {
            "image/png": "[encoded data removed]",
            "text/plain": [
              "<Figure size 432x288 with 1 Axes>"
            ]
          },
          "metadata": {
            "tags": [],
            "needs_background": "light"
          }
        }
      ]
    },
    {
      "cell_type": "code",
      "metadata": {
        "colab": {
          "base_uri": "https://localhost:8080/"
        },
        "id": "aEKc8eqKoEeV",
        "outputId": "49726e51-c3a2-4eff-cacd-d28932de1043"
      },
      "source": [
        "#使用pd.crosstab函數繪製交叉表，交叉表可以很直觀的依據艙位等級及性別來查看存活人數及死亡人數。\r\n",
        "#繪製堆疊條形圖，x軸代表依據艙等分成男性及女性，y軸代表人數，其中藍色代表死亡人數，橘色代表存活人數。\r\n",
        "survived_counts = pd.crosstab([df.pclass, df.sex],df.survived)\r\n",
        "survived_counts"
      ],
      "execution_count": 32,
      "outputs": [
        {
          "output_type": "execute_result",
          "data": {
            "text/plain": [
              "<bound method DataFrame.info of survived         0   1\n",
              "pclass sex            \n",
              "1      female    3  91\n",
              "       male     77  45\n",
              "2      female    6  70\n",
              "       male     91  17\n",
              "3      female   72  72\n",
              "       male    300  47>"
            ]
          },
          "metadata": {
            "tags": []
          },
          "execution_count": 32
        }
      ]
    },
    {
      "cell_type": "code",
      "metadata": {
        "colab": {
          "base_uri": "https://localhost:8080/",
          "height": 341
        },
        "id": "D5FxAQZgoIsp",
        "outputId": "03d86fd4-47b3-4974-f8ac-7c092d81219a"
      },
      "source": [
        "#使用survived_counts.plot做對照組\r\n",
        "survived_counts.plot(kind='bar', stacked=True)"
      ],
      "execution_count": 26,
      "outputs": [
        {
          "output_type": "execute_result",
          "data": {
            "text/plain": [
              "<matplotlib.axes._subplots.AxesSubplot at 0x7f70c9f686d0>"
            ]
          },
          "metadata": {
            "tags": []
          },
          "execution_count": 26
        },
        {
          "output_type": "display_data",
          "data": {
            "image/png": "[encoded data removed]",
            "text/plain": [
              "<Figure size 432x288 with 1 Axes>"
            ]
          },
          "metadata": {
            "tags": [],
            "needs_background": "light"
          }
        }
      ]
    },
    {
      "cell_type": "code",
      "metadata": {
        "colab": {
          "base_uri": "https://localhost:8080/",
          "height": 296
        },
        "id": "qLrc6Af6qIn0",
        "outputId": "bc99e54c-cbc5-4467-d484-8852b8fd4002"
      },
      "source": [
        "# 直接使用PANDAS dataframe, 當作參數\r\n",
        "#條形圖()顯示分類變數和連續變數之間的關係。數據以矩形條表示,其中條的長度表示該類別中數據的比例。\r\n",
        "\r\n",
        "sns.violinplot(data=survived_counts)"
      ],
      "execution_count": 37,
      "outputs": [
        {
          "output_type": "execute_result",
          "data": {
            "text/plain": [
              "<matplotlib.axes._subplots.AxesSubplot at 0x7f70c561b710>"
            ]
          },
          "metadata": {
            "tags": []
          },
          "execution_count": 37
        },
        {
          "output_type": "display_data",
          "data": {
            "image/png": "[encoded data removed]",
            "text/plain": [
              "<Figure size 432x288 with 1 Axes>"
            ]
          },
          "metadata": {
            "tags": [],
            "needs_background": "light"
          }
        }
      ]
    },
    {
      "cell_type": "code",
      "metadata": {
        "colab": {
          "base_uri": "https://localhost:8080/",
          "height": 467
        },
        "id": "y3seI-1ZsHMU",
        "outputId": "3adc0fcd-8b29-4f7b-b0e6-48afa1792b2e"
      },
      "source": [
        "# 瞭解性別在各艙等的分布的存活率\r\n",
        "g = sns.FacetGrid(df, col=\"survived\")\r\n",
        "g.map(plt.hist, 'pclass')\r\n",
        "h = sns.FacetGrid(df, col=\"survived\")\r\n",
        "h.map(plt.hist, 'sex')\r\n",
        "g,h"
      ],
      "execution_count": 43,
      "outputs": [
        {
          "output_type": "execute_result",
          "data": {
            "text/plain": [
              "(<seaborn.axisgrid.FacetGrid at 0x7f70c5776350>,\n",
              " <seaborn.axisgrid.FacetGrid at 0x7f70cad493d0>)"
            ]
          },
          "metadata": {
            "tags": []
          },
          "execution_count": 43
        },
        {
          "output_type": "display_data",
          "data": {
            "image/png": "[encoded data removed]",
            "text/plain": [
              "<Figure size 432x216 with 2 Axes>"
            ]
          },
          "metadata": {
            "tags": [],
            "needs_background": "light"
          }
        },
        {
          "output_type": "display_data",
          "data": {
            "image/png": "[encoded data removed]",
            "text/plain": [
              "<Figure size 432x216 with 2 Axes>"
            ]
          },
          "metadata": {
            "tags": [],
            "needs_background": "light"
          }
        }
      ]
    },
    {
      "cell_type": "code",
      "metadata": {
        "id": "x9W0x7RUuEzH"
      },
      "source": [
        ""
      ],
      "execution_count": null,
      "outputs": []
    }
  ]
}