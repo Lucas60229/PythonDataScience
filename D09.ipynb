{
  "nbformat": 4,
  "nbformat_minor": 0,
  "metadata": {
    "colab": {
      "name": "D09.ipynb",
      "provenance": [],
      "authorship_tag": "ABX9TyNIYrL2Fy/PK4A760SvIGrn",
      "include_colab_link": true
    },
    "kernelspec": {
      "name": "python3",
      "display_name": "Python 3"
    }
  },
  "cells": [
    {
      "cell_type": "markdown",
      "metadata": {
        "id": "view-in-github",
        "colab_type": "text"
      },
      "source": [
        "<a href=\"https://colab.research.google.com/github/Lucas60229/PythonDataScience/blob/main/D09.ipynb\" target=\"_parent\"><img src=\"https://colab.research.google.com/assets/colab-badge.svg\" alt=\"Open In Colab\"/></a>"
      ]
    },
    {
      "cell_type": "code",
      "metadata": {
        "id": "ZUKFg4_jUg9y"
      },
      "source": [
        "import pandas as pd"
      ],
      "execution_count": 1,
      "outputs": []
    },
    {
      "cell_type": "code",
      "metadata": {
        "id": "Cga6RKzuUj6p"
      },
      "source": [
        "df = pd.read_csv(\"/content/boston.csv\", usecols=[\"CHAS\", \"NOX\", \"RM\"])\n",
        "df.to_excel(\"boston.xlsx\")"
      ],
      "execution_count": 3,
      "outputs": []
    }
  ]
}